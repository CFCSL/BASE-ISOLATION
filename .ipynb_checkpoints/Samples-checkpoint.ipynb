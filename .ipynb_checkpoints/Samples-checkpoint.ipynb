{
 "cells": [
  {
   "cell_type": "code",
   "execution_count": 2,
   "id": "ad443172-2532-4f44-b3b3-1ed45a7068db",
   "metadata": {
    "tags": []
   },
   "outputs": [],
   "source": [
    "import pandas as pd\n",
    "import numpy as np\n",
    "from Base_Isolation_Calculation import *"
   ]
  },
  {
   "cell_type": "markdown",
   "id": "7f4d19bb-a5db-4425-a2f7-69b690cf62df",
   "metadata": {},
   "source": [
    "# Example 1.0"
   ]
  },
  {
   "cell_type": "code",
   "execution_count": null,
   "id": "6eee60de-b3a3-4309-97e9-8a70beb24efa",
   "metadata": {},
   "outputs": [],
   "source": [
    "# Example 1.0:\n",
    "m=4\n",
    "n=6\n",
    "n_c=[0,3,3,0]\n",
    "W_SS=650.52\n",
    "W_PP=107.16\n",
    "W=[44.95,280.31,280.31,44.95]\n",
    "K_sub=[10000,172.0, 172.0,10000]\n",
    "angle_skew=0\n",
    "#%%%%%%\n",
    "PGA=0.40\n",
    "S_1=0.20\n",
    "S_S=0.75\n",
    "SiteClass=\"B\"\n",
    "q=0.05 # 5%\n",
    "k=0.05\n",
    "tol=0.05\n",
    "T_max=2\n",
    "Isolator_Type='Lead-rubber bearing'\n",
    "\n",
    "\n"
   ]
  }
 ],
 "metadata": {
  "kernelspec": {
   "display_name": "Python 3 (ipykernel)",
   "language": "python",
   "name": "python3"
  },
  "language_info": {
   "codemirror_mode": {
    "name": "ipython",
    "version": 3
   },
   "file_extension": ".py",
   "mimetype": "text/x-python",
   "name": "python",
   "nbconvert_exporter": "python",
   "pygments_lexer": "ipython3",
   "version": "3.10.9"
  }
 },
 "nbformat": 4,
 "nbformat_minor": 5
}
