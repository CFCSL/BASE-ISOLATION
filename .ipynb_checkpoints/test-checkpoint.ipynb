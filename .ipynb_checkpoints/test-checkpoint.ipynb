{
 "cells": [
  {
   "cell_type": "code",
   "execution_count": 46,
   "id": "3654d84b-9fa4-40f9-902d-fe924e9bac15",
   "metadata": {
    "tags": []
   },
   "outputs": [],
   "source": [
    "import pandas as pd \n",
    "from Response_Spectrum import *\n",
    "from sympy import symbols, Eq, Function,UnevaluatedExpr, Mul\n",
    "from sympy import *\n",
    "\n",
    "#init_printing()\n",
    "from sympy import Piecewise, nan\n",
    "import numpy as np"
   ]
  },
  {
   "cell_type": "code",
   "execution_count": 47,
   "id": "f5760189-9dba-4100-828a-97187c715806",
   "metadata": {
    "tags": []
   },
   "outputs": [],
   "source": [
    "def round_expr(expr, num_digits=2):\n",
    "    return expr.xreplace({n : round(n, num_digits) for n in expr.atoms(Number)})\n",
    "\n",
    "def round_equation(eq, num_digits=2):\n",
    "    lhs = eq.lhs\n",
    "    rhs = eq.rhs\n",
    "    rounded_rhs = round_expr(rhs, num_digits)\n",
    "    return Eq(lhs, rounded_rhs)"
   ]
  },
  {
   "cell_type": "code",
   "execution_count": 48,
   "id": "94eef8e1-bd37-4941-80fd-a1bb8fa30d63",
   "metadata": {
    "tags": []
   },
   "outputs": [
    {
     "data": {
      "image/png": "[encoded data removed]",
      "text/latex": [
       "$\\displaystyle \\frac{1}{\\sin{\\left(x \\right)}}$"
      ],
      "text/plain": [
       "  1   \n",
       "──────\n",
       "sin(x)"
      ]
     },
     "metadata": {},
     "output_type": "display_data"
    },
    {
     "data": {
      "image/png": "[encoded data removed]",
      "text/latex": [
       "$\\displaystyle 1.09975017029462$"
      ],
      "text/plain": [
       "1.0997501702946164"
      ]
     },
     "execution_count": 48,
     "metadata": {},
     "output_type": "execute_result"
    }
   ],
   "source": [
    "x=symbols('x')\n",
    "expr=1/sin(x) \n",
    "f=lambdify(x, expr) \n",
    "display(expr)\n",
    "f(2)\n"
   ]
  },
  {
   "cell_type": "code",
   "execution_count": 49,
   "id": "e9df730e-04c4-4407-a7fe-eb6f213fa19f",
   "metadata": {
    "tags": []
   },
   "outputs": [
    {
     "data": {
      "text/plain": [
       "(array([0.2]), array(1.), array(1.), array(1.), 0.4, 0.75, 0.2)"
      ]
     },
     "execution_count": 49,
     "metadata": {},
     "output_type": "execute_result"
    }
   ],
   "source": [
    "RS_params=AASHTO(T=1, PGA=0.4,S_S=0.75,S_1=0.2,SiteClass=\"B\")\n",
    "# Convert the first element of the array to a numpy number\n",
    "#RS_params[0].item()\n",
    "RS_params\n"
   ]
  },
  {
   "cell_type": "code",
   "execution_count": null,
   "id": "f9e126cf-4e03-422f-b4ef-9751cf0d4a5e",
   "metadata": {},
   "outputs": [],
   "source": []
  },
  {
   "cell_type": "code",
   "execution_count": null,
   "id": "c50a8ffb-a927-48ed-b4df-f4703f982006",
   "metadata": {},
   "outputs": [],
   "source": []
  },
  {
   "cell_type": "code",
   "execution_count": 375,
   "id": "dd7b380f-32b3-40af-8145-7b6c567a3f32",
   "metadata": {
    "tags": []
   },
   "outputs": [],
   "source": [
    "def Iteration(m,n,n_c,W_SS, W_PP,W,K_sub,angle_skew,S_D1, epsilon,d):\n",
    "    \n",
    "    \"\"\"\n",
    "    m: Number of supports\n",
    "    \n",
    "    n: Number of girders per support\n",
    "    \n",
    "    n_c=[0,3,3,0]: Number of columns per support\n",
    "    ** abutment1, 2 there are no columns\n",
    "        number of columns = 3 in each pie 1 and 2 \n",
    "        \n",
    "    \n",
    "    W_SS: Weight of superstructure including railings, curbs,and barriers to the permanent loads\n",
    "    \n",
    "    W_PP: Weight of piers participating with superstructure in dynamic response\n",
    "    \n",
    "    W_eff= W_SS + W_PP: Effective weight\n",
    "    \n",
    "    W=[W_1,W_2,...,W_m]: Weight of superstructure at each support\n",
    "    \n",
    "    K_sub=[K_sub_abut1, K_sub_pie1, K_sub_pie2, K_sub_abut2]: Stiffness of each support in both longitudinal and transverse directions of the bridge\n",
    "    ** For the abutments, take Ksub,j to be a large number, say 10,000 kips/in.\n",
    "    \n",
    "    angle_skew: Angle of skew\n",
    "    \n",
    "    PGA,S_1, S_S: Acceleration coefficients for bridge site are given in design statement\n",
    "    \n",
    "    SiteClass:  \"A\", \"B\", \"C\",\"D\",\"E\"\n",
    "    \n",
    "    epsilon: tolerance\n",
    "    \n",
    "    d: set initial guess for the first iteration\n",
    " \n",
    "    \"\"\"\n",
    "    \n",
    "    \n",
    "  \n",
    "    \n",
    " \n",
    "    #%%%%%%%%%%%%%%%%%%%%%%%%%%%%%%%%%%%%%%%%%%%%%%%%%%%\n",
    "    # B2.1.1—Step A: Identifty Bridge Data\n",
    "    ## B2.1.1.2—Step A2: Seismic Hazard\n",
    "    \n",
    "    ### RS_params: C_sm, F_pga, F_a, F_v, A_S, S_DS,S_D1\n",
    "    #T_eff=1.0 # Set initial period \n",
    "    #C_sm, F_pga, F_a, F_v, A_S, S_DS,S_D1=ASSHTO(T=T_eff, PGA=PGA,S_S=S_S,S_1=S_1,SiteClass=SiteClass) # g=C_sm???\n",
    "    \n",
    "    # B2.1.2—STEP B: ANALYZE BRIDGE FOR EARTHQUAKE LOADING IN LONGITUDINAL DIRECTION\n",
    "    ## B2.1.2.1—STEP B1: SIMPLIFIED METHOD\n",
    "    ### B2.1.2.1.1—Step B1.1: Initial System Displacement and Properties\n",
    "        \n",
    "    #%% Assume that the initial value of displacement d approximates 2.0\n",
    "    #d=2.0\n",
    "    i_count=1\n",
    "  \n",
    "    while True:\n",
    "        \n",
    "        print(f'iteration:{i_count} ')\n",
    "        print(f'd={d}')\n",
    "        \n",
    "        #%% Calculate characteristic strength, Q_d\n",
    "        Q_d=0.05*W_SS\n",
    "\n",
    "        #%% Calculate Post-yield stiffness, K_d\n",
    "        K_d=0.05*(W_SS/d)\n",
    "\n",
    "        ### B2.1.2.1.2—Step B1.2: Initial Isolator Properties at Supports\n",
    "\n",
    "        #%% Calculate the characteristic strength, Q_dj\n",
    "\n",
    "        Q_dj=[Q_d*(W[j]/W_SS) for j in range(m)]\n",
    "\n",
    "        #%% Calculate postelastic stiffness, K_dj\n",
    "\n",
    "        K_dj= [K_d*(W[j]/W_SS) for j in range(m)]\n",
    "\n",
    "       \n",
    "\n",
    "        ### B2.1.2.1.3—Step B1.3: Effective Stiffness of Combined Pier and Isolator System\n",
    "\n",
    "        #%% Calculate alpha_j\n",
    "\n",
    "        alpha_j = [(K_dj[j]*d+Q_dj[j])/(K_sub[j]*d-Q_dj[j]) for j in range(m)]\n",
    "\n",
    "        #%% Calculate the effective stiffness, K_effj\n",
    "\n",
    "        K_effj=[(alpha_j[j]*K_sub[j])/(1+alpha_j[j]) for j in range(m)]\n",
    "\n",
    "        ### B2.1.2.1.4—Step B1.4: Total Effective Stiffness\n",
    "\n",
    "        #%% Calculate the total effective stiffness, Keff, of the bridge:\n",
    "\n",
    "        K_eff= sum(K_effj)\n",
    "        print(f'K_eff: {K_eff}')\n",
    "\n",
    "        ### B2.1.2.1.5—Step B1.5: Isolation System Displacement at Each Suppor\n",
    "\n",
    "        #%% Calculate the displacement of the isolation system, d_isolj\n",
    "\n",
    "        d_isolj=  [d/(1+ alpha_j[j]) for j in range(m)]\n",
    "        \n",
    "        print(f'd_isolj: {d_isolj}')\n",
    "\n",
    "        ### B2.1.2.1.6—Step B1.6: Isolation System Stiffness at Each Support\n",
    "\n",
    "        #%% Calculate the effective stiffness of the isolation system at support “j”, Kisol,j, for all supports\n",
    "\n",
    "        K_isolj=[Q_dj[j]/d_isolj[j]+ K_dj[j] for j in range(m)]\n",
    "\n",
    "        ### 2.1.2.1.7—Step B1.7: Substructure Displacement at Each Support, d_subj\n",
    "\n",
    "        d_subj= [d- d_isolj[j] for j in range(m)]\n",
    "\n",
    "        ### B2.1.2.1.8—Step B1.8: Lateral Load in Each Substructure Support\n",
    "\n",
    "        #%% Calculate the shear at support “j”, Fsub,j, for all supports:\n",
    "\n",
    "        F_subj= [K_sub[j]* d_subj[j] for j in range(m)]\n",
    "\n",
    "        ### B2.1.2.1.9—Step B1.9: Column Shear Force at Each Support\n",
    "\n",
    "        F_coljk=[]\n",
    "\n",
    "        for j in range(m):\n",
    "            if n_c[j]==0:\n",
    "                val=0\n",
    "            else:\n",
    "                val= [F_subj[j]/n_c[j]]\n",
    "\n",
    "            F_coljk.append(val)\n",
    "\n",
    "        ### B2.1.2.1.10—Step B1.10: Effective Period and Damping Ratio\n",
    "\n",
    "        #%% Calculate the effective period, T_eff \n",
    "\n",
    "        W_eff= W_SS + W_PP #  Effective weight, W_eff\n",
    "        g=386.4 # (in./s^2) or 9.815(m/s^2)\n",
    "\n",
    "        T_eff=2*np.pi* (W_eff/(g*K_eff))**(1/2)\n",
    "        print(f'T_eff: {T_eff}')\n",
    "\n",
    "        #%% Calculate the viscous damping ratio, ξ , of the bridge\n",
    "\n",
    "        d_yj=[0]*m # taking d_yj=0\n",
    "\n",
    "        numerator=2*sum([Q_dj[j]*(d_isolj[j]-d_yj[j]) for j in range(m)])\n",
    "\n",
    "        denominator=np.pi*sum([K_effj[j]*(d_isolj[j]+d_subj[j])**2 for j in range(m)])\n",
    "\n",
    "        xi= numerator/denominator\n",
    "\n",
    "        ### B2.1.2.1.11—Step B1.11: Damping Factor\n",
    "\n",
    "        #%% Calculate the damping factor, B_L\n",
    "\n",
    "        B_L=Piecewise(((xi/0.05)**0.03,xi<0.3),(1.7, xi>=0.3))\n",
    "\n",
    "        #%%  Calculate the displacement, d_new\n",
    "\n",
    "        d_new=(9.79*S_D1*T_eff)/B_L\n",
    "        \n",
    "        print(f'd_new: {d_new}')\n",
    "\n",
    "        #%%%%%%%%%%%%%%%%%%%%%\n",
    "        #%% Calculate the diference, abs(d_new-d) \n",
    "\n",
    "        difference=abs(d_new-d)\n",
    "\n",
    "        #%% Check the condition:\n",
    "\n",
    "        if difference> epsilon:\n",
    "            d=d_new\n",
    "            i_count=i_count+1\n",
    "\n",
    "        else:\n",
    "            break\n",
    "      \n",
    "        \n",
    "    df = pd.DataFrame({\"Pier\": [\"Abut1\", \"Pier1\", \"Pier2\", \"Abut2\"],\n",
    "                       \"$$W_j$$\": W,\"$$Q_{d,j}$$\":Q_dj, \"$$K_{d,j}$$\":K_dj,\n",
    "                       \"$$K_{sub,j}$$\": K_sub,\"$\\\\alpha_j$\": alpha_j,\n",
    "                       \"$$F_{sub,j}$$\":F_subj , \"$$T_{eff}$$\": T_eff  })\n",
    "        \n",
    "    #return print(f'Number of iteration: {i_count}\\n Expected structure displacement: {d_new}\\n Wj: {W}\\nK_dj:{K_dj}\\nK_subj:{K_sub}\\nQ_dj: {Q_dj}\\nalpha_j:{alpha_j}\\nK_effj:{K_effj}\\n d_isolj: {d_isolj}\\n K_isolj:{K_isolj}\\n d_subj:{d_subj}'),\n",
    "     \n",
    "         \n",
    "    #return print(f'Number of iteration: {i_count}\\n'),print(f'Expected structure displacement: {d_new}\\n Wj: {W}\\nK_dj:{K_dj}\\nK_subj:{K_sub}\\nQ_dj: {Q_dj}\\nalpha_j:{alpha_j}\\nK_effj:{K_effj}\\n d_isolj: {d_isolj}\\n K_isolj:{K_isolj}\\n d_subj:{d_subj}'),\n",
    "    \n",
    "    #return print(f'Number of iteration: {i_count}\\n'),print(f'Expected structure displacement: {d_new} \\n T_eff: {T_eff}')#\\n Wj: {W}\\nK_dj:{K_dj}\\nK_subj:{K_sub}\\nQ_dj: {Q_dj}\\nalpha_j:{alpha_j}\\nK_effj:{K_effj}\\n d_isolj: {d_isolj}\\n K_isolj:{K_isolj}\\n d_subj:{d_subj}'),\n",
    "    return df\n",
    "  \n",
    "          \n",
    "    "
   ]
  },
  {
   "cell_type": "code",
   "execution_count": null,
   "id": "9ce278f5-529f-4bf2-be15-a39ff69f7a4b",
   "metadata": {},
   "outputs": [],
   "source": [
    " \n",
    "                \n",
    "                \n",
    "      "
   ]
  },
  {
   "cell_type": "code",
   "execution_count": 376,
   "id": "eb13b051-4588-48ba-bdb2-e5b2596d3ccd",
   "metadata": {
    "tags": []
   },
   "outputs": [],
   "source": [
    "# Example 1.0:\n",
    "m=4\n",
    "n=6\n",
    "n_c=[0,3,3,0]\n",
    "W_SS=650.52\n",
    "W_PP=107.16\n",
    "W=[44.95,280.31,280.31,44.95]\n",
    "K_sub=[10000,172.0, 172.0,10000]\n",
    "angle_skew=0\n",
    "\n",
    "\n",
    "PGA=0.40\n",
    "S_1=0.20\n",
    "S_S=0.75\n",
    "SiteClass=\"B\"\n",
    "\n",
    "\n"
   ]
  },
  {
   "cell_type": "code",
   "execution_count": 377,
   "id": "f471ddab-31b8-431b-add3-d810a94ca950",
   "metadata": {
    "tags": []
   },
   "outputs": [
    {
     "name": "stdout",
     "output_type": "stream",
     "text": [
      "C_sm=[0.2]\n",
      "F_pga=1.0\n",
      "F_a=1.0\n",
      "F_v=1.0\n",
      "A_S=0.4\n",
      "S_DS=0.75\n",
      "S_D1=0.2\n"
     ]
    }
   ],
   "source": [
    "### Calculate Response Spectrum Parameters: C_sm, F_pga, F_a, F_v, A_S, S_DS,S_D1\n",
    "C_sm, F_pga, F_a, F_v, A_S, S_DS,S_D1=AASHTO(T=1, PGA=PGA,S_S=S_S,S_1=S_1,SiteClass=SiteClass) \n",
    "\n",
    "print(f'C_sm={C_sm}')\n",
    "print(f'F_pga={F_pga}')\n",
    "print(f'F_a={F_a}')\n",
    "print(f'F_v={F_v}')\n",
    "print(f'A_S={A_S}')\n",
    "print(f'S_DS={S_DS}')\n",
    "print(f'S_D1={S_D1}')"
   ]
  },
  {
   "cell_type": "code",
   "execution_count": 378,
   "id": "f87e39cd-ffe1-4517-9f22-ca6518755387",
   "metadata": {
    "tags": []
   },
   "outputs": [
    {
     "name": "stdout",
     "output_type": "stream",
     "text": [
      "iteration:1 \n",
      "d=1.81\n",
      "K_eff: 34.60537283889139\n",
      "d_isolj: [1.8095505558080567, 1.654049880815343, 1.654049880815343, 1.8095505558080567]\n",
      "T_eff: 1.4956585395182889\n",
      "d_new: 1.72264671786871\n",
      "iteration:2 \n",
      "d=1.72264671786871\n",
      "K_eff: 36.2922526976581\n",
      "d_isolj: [1.72219727650636, 1.56703653546587, 1.56703653546587, 1.72219727650636]\n",
      "T_eff: 1.46048552908805\n",
      "d_new: 1.68213568585553\n"
     ]
    },
    {
     "ename": "TypeError",
     "evalue": "unsupported format string passed to list.__format__",
     "output_type": "error",
     "traceback": [
      "\u001b[1;31m---------------------------------------------------------------------------\u001b[0m",
      "\u001b[1;31mTypeError\u001b[0m                                 Traceback (most recent call last)",
      "Cell \u001b[1;32mIn[378], line 3\u001b[0m\n\u001b[0;32m      1\u001b[0m epsilon\u001b[38;5;241m=\u001b[39m\u001b[38;5;241m0.05\u001b[39m\n\u001b[0;32m      2\u001b[0m d\u001b[38;5;241m=\u001b[39m\u001b[38;5;241m1.81\u001b[39m\n\u001b[1;32m----> 3\u001b[0m \u001b[43mIteration\u001b[49m\u001b[43m(\u001b[49m\u001b[43mm\u001b[49m\u001b[43m,\u001b[49m\u001b[43mn\u001b[49m\u001b[43m,\u001b[49m\u001b[43mn_c\u001b[49m\u001b[43m,\u001b[49m\u001b[43mW_SS\u001b[49m\u001b[43m,\u001b[49m\u001b[43m \u001b[49m\u001b[43mW_PP\u001b[49m\u001b[43m,\u001b[49m\u001b[43mW\u001b[49m\u001b[43m,\u001b[49m\u001b[43mK_sub\u001b[49m\u001b[43m,\u001b[49m\u001b[43mangle_skew\u001b[49m\u001b[43m,\u001b[49m\u001b[43mS_D1\u001b[49m\u001b[43m,\u001b[49m\u001b[43m \u001b[49m\u001b[43mepsilon\u001b[49m\u001b[43m,\u001b[49m\u001b[43md\u001b[49m\u001b[43m)\u001b[49m\n",
      "Cell \u001b[1;32mIn[375], line 182\u001b[0m, in \u001b[0;36mIteration\u001b[1;34m(m, n, n_c, W_SS, W_PP, W, K_sub, angle_skew, S_D1, epsilon, d)\u001b[0m\n\u001b[0;32m    175\u001b[0m     \u001b[38;5;28;01melse\u001b[39;00m:\n\u001b[0;32m    176\u001b[0m         \u001b[38;5;28;01mbreak\u001b[39;00m\n\u001b[0;32m    179\u001b[0m df \u001b[38;5;241m=\u001b[39m pd\u001b[38;5;241m.\u001b[39mDataFrame({\u001b[38;5;124m\"\u001b[39m\u001b[38;5;124mPier\u001b[39m\u001b[38;5;124m\"\u001b[39m: [\u001b[38;5;124m\"\u001b[39m\u001b[38;5;124mAbut1\u001b[39m\u001b[38;5;124m\"\u001b[39m, \u001b[38;5;124m\"\u001b[39m\u001b[38;5;124mPier1\u001b[39m\u001b[38;5;124m\"\u001b[39m, \u001b[38;5;124m\"\u001b[39m\u001b[38;5;124mPier2\u001b[39m\u001b[38;5;124m\"\u001b[39m, \u001b[38;5;124m\"\u001b[39m\u001b[38;5;124mAbut2\u001b[39m\u001b[38;5;124m\"\u001b[39m],\n\u001b[0;32m    180\u001b[0m                    \u001b[38;5;124m\"\u001b[39m\u001b[38;5;124m$$W_j$$\u001b[39m\u001b[38;5;124m\"\u001b[39m: W,\u001b[38;5;124m\"\u001b[39m\u001b[38;5;124m$$Q_\u001b[39m\u001b[38;5;124m{\u001b[39m\u001b[38;5;124md,j}$$\u001b[39m\u001b[38;5;124m\"\u001b[39m:Q_dj, \u001b[38;5;124m\"\u001b[39m\u001b[38;5;124m$$K_\u001b[39m\u001b[38;5;124m{\u001b[39m\u001b[38;5;124md,j}$$\u001b[39m\u001b[38;5;124m\"\u001b[39m:K_dj,\n\u001b[0;32m    181\u001b[0m                    \u001b[38;5;124m\"\u001b[39m\u001b[38;5;124m$$K_\u001b[39m\u001b[38;5;124m{\u001b[39m\u001b[38;5;124msub,j}$$\u001b[39m\u001b[38;5;124m\"\u001b[39m: K_sub,\u001b[38;5;124m\"\u001b[39m\u001b[38;5;124m$\u001b[39m\u001b[38;5;130;01m\\\\\u001b[39;00m\u001b[38;5;124malpha_j$\u001b[39m\u001b[38;5;124m\"\u001b[39m: alpha_j,\n\u001b[1;32m--> 182\u001b[0m                    \u001b[38;5;124m\"\u001b[39m\u001b[38;5;124m$$F_\u001b[39m\u001b[38;5;124m{\u001b[39m\u001b[38;5;124msub,j}$$\u001b[39m\u001b[38;5;124m\"\u001b[39m:\u001b[38;5;124mf\u001b[39m\u001b[38;5;124m\"\u001b[39m\u001b[38;5;132;01m{\u001b[39;00mF_subj\u001b[38;5;132;01m:\u001b[39;00m\u001b[38;5;124m.2f\u001b[39m\u001b[38;5;132;01m}\u001b[39;00m\u001b[38;5;124m\"\u001b[39m , \u001b[38;5;124m\"\u001b[39m\u001b[38;5;124m$$T_\u001b[39m\u001b[38;5;132;01m{eff}\u001b[39;00m\u001b[38;5;124m$$\u001b[39m\u001b[38;5;124m\"\u001b[39m: T_eff  })\n\u001b[0;32m    184\u001b[0m \u001b[38;5;66;03m#return print(f'Number of iteration: {i_count}\\n Expected structure displacement: {d_new}\\n Wj: {W}\\nK_dj:{K_dj}\\nK_subj:{K_sub}\\nQ_dj: {Q_dj}\\nalpha_j:{alpha_j}\\nK_effj:{K_effj}\\n d_isolj: {d_isolj}\\n K_isolj:{K_isolj}\\n d_subj:{d_subj}'),\u001b[39;00m\n\u001b[0;32m    185\u001b[0m  \n\u001b[0;32m    186\u001b[0m      \n\u001b[0;32m    187\u001b[0m \u001b[38;5;66;03m#return print(f'Number of iteration: {i_count}\\n'),print(f'Expected structure displacement: {d_new}\\n Wj: {W}\\nK_dj:{K_dj}\\nK_subj:{K_sub}\\nQ_dj: {Q_dj}\\nalpha_j:{alpha_j}\\nK_effj:{K_effj}\\n d_isolj: {d_isolj}\\n K_isolj:{K_isolj}\\n d_subj:{d_subj}'),\u001b[39;00m\n\u001b[0;32m    188\u001b[0m \n\u001b[0;32m    189\u001b[0m \u001b[38;5;66;03m#return print(f'Number of iteration: {i_count}\\n'),print(f'Expected structure displacement: {d_new} \\n T_eff: {T_eff}')#\\n Wj: {W}\\nK_dj:{K_dj}\\nK_subj:{K_sub}\\nQ_dj: {Q_dj}\\nalpha_j:{alpha_j}\\nK_effj:{K_effj}\\n d_isolj: {d_isolj}\\n K_isolj:{K_isolj}\\n d_subj:{d_subj}'),\u001b[39;00m\n\u001b[0;32m    190\u001b[0m \u001b[38;5;28;01mreturn\u001b[39;00m df\n",
      "\u001b[1;31mTypeError\u001b[0m: unsupported format string passed to list.__format__"
     ]
    }
   ],
   "source": [
    "epsilon=0.05\n",
    "d=1.81\n",
    "Iteration(m,n,n_c,W_SS, W_PP,W,K_sub,angle_skew,S_D1, epsilon,d)"
   ]
  },
  {
   "cell_type": "code",
   "execution_count": null,
   "id": "23232e54-d37b-4641-8e80-3e17a3867b8a",
   "metadata": {},
   "outputs": [],
   "source": []
  },
  {
   "cell_type": "code",
   "execution_count": 362,
   "id": "acbed58c-f948-4eca-a444-5c262e486535",
   "metadata": {
    "tags": []
   },
   "outputs": [
    {
     "name": "stdout",
     "output_type": "stream",
     "text": [
      "iteration:1 \n",
      "d=1\n",
      "K_eff: 60.82593969142006\n",
      "d_isolj: [0.9995506010024248, 0.849308256570017, 0.849308256570017, 0.9995506010024248]\n",
      "T_eff: 1.13\n",
      "d_new: 2.09755292132007\n",
      "iteration:2 \n",
      "d=2.09755292132007\n",
      "K_eff: 30.0133500109126\n",
      "d_isolj: [2.09710346947823, 1.94067631330464, 1.94067631330464, 2.09710346947823]\n",
      "T_eff: 1.61\n",
      "d_new: 1.85446490119485\n",
      "iteration:3 \n",
      "d=1.85446490119485\n",
      "K_eff: 33.8055591780724\n",
      "d_isolj: [1.85401545566495, 1.69835352804678, 1.69835352804678, 1.85401545566495]\n",
      "T_eff: 1.51\n",
      "d_new: 1.73917595358456\n",
      "iteration:4 \n",
      "d=1.73917595358456\n",
      "K_eff: 35.9605531322294\n",
      "d_isolj: [1.73872651166498, 1.58349894517296, 1.58349894517296, 1.73872651166498]\n",
      "T_eff: 1.47\n",
      "d_new: 1.69306037454044\n",
      "iteration:5 \n",
      "d=1.69306037454044\n",
      "K_eff: 36.9015149875544\n",
      "d_isolj: [1.69261093420265, 1.53757291515077, 1.53757291515077, 1.69261093420265]\n",
      "T_eff: 1.45\n",
      "d_new: 1.67000258501838\n",
      "iteration:6 \n",
      "d=1.67000258501838\n",
      "K_eff: 37.3907123492486\n",
      "d_isolj: [1.66955314550424, 1.51461364316959, 1.51461364316959, 1.66955314550424]\n",
      "T_eff: 1.44\n",
      "d_new: 1.65847369025735\n",
      "iteration:7 \n",
      "d=1.65847369025735\n",
      "K_eff: 37.6402088194214\n",
      "d_isolj: [1.65802425116362, 1.50313498633851, 1.50313498633851, 1.65802425116362]\n",
      "T_eff: 1.43\n",
      "d_new: 1.64694479549632\n",
      "iteration:8 \n",
      "d=1.64694479549632\n",
      "K_eff: 37.8930582703742\n",
      "d_isolj: [1.64649535682888, 1.49165699969681, 1.49165699969681, 1.64649535682888]\n",
      "T_eff: 1.43\n",
      "d_new: 1.64694479549632\n"
     ]
    },
    {
     "ename": "TypeError",
     "evalue": "unsupported format string passed to list.__format__",
     "output_type": "error",
     "traceback": [
      "\u001b[1;31m---------------------------------------------------------------------------\u001b[0m",
      "\u001b[1;31mTypeError\u001b[0m                                 Traceback (most recent call last)",
      "Cell \u001b[1;32mIn[362], line 3\u001b[0m\n\u001b[0;32m      1\u001b[0m epsilon\u001b[38;5;241m=\u001b[39m\u001b[38;5;241m0.0001\u001b[39m\n\u001b[0;32m      2\u001b[0m d\u001b[38;5;241m=\u001b[39m\u001b[38;5;241m1\u001b[39m\n\u001b[1;32m----> 3\u001b[0m \u001b[43mIteration\u001b[49m\u001b[43m(\u001b[49m\u001b[43mm\u001b[49m\u001b[43m,\u001b[49m\u001b[43mn\u001b[49m\u001b[43m,\u001b[49m\u001b[43mn_c\u001b[49m\u001b[43m,\u001b[49m\u001b[43mW_SS\u001b[49m\u001b[43m,\u001b[49m\u001b[43m \u001b[49m\u001b[43mW_PP\u001b[49m\u001b[43m,\u001b[49m\u001b[43mW\u001b[49m\u001b[43m,\u001b[49m\u001b[43mK_sub\u001b[49m\u001b[43m,\u001b[49m\u001b[43mangle_skew\u001b[49m\u001b[43m,\u001b[49m\u001b[43mS_D1\u001b[49m\u001b[43m,\u001b[49m\u001b[43m \u001b[49m\u001b[43mepsilon\u001b[49m\u001b[43m,\u001b[49m\u001b[43md\u001b[49m\u001b[43m)\u001b[49m\n",
      "Cell \u001b[1;32mIn[358], line 181\u001b[0m, in \u001b[0;36mIteration\u001b[1;34m(m, n, n_c, W_SS, W_PP, W, K_sub, angle_skew, S_D1, epsilon, d)\u001b[0m\n\u001b[0;32m    174\u001b[0m     \u001b[38;5;28;01melse\u001b[39;00m:\n\u001b[0;32m    175\u001b[0m         \u001b[38;5;28;01mbreak\u001b[39;00m\n\u001b[0;32m    178\u001b[0m df \u001b[38;5;241m=\u001b[39m pd\u001b[38;5;241m.\u001b[39mDataFrame({\u001b[38;5;124m\"\u001b[39m\u001b[38;5;124mPier\u001b[39m\u001b[38;5;124m\"\u001b[39m: [\u001b[38;5;124m\"\u001b[39m\u001b[38;5;124mAbut1\u001b[39m\u001b[38;5;124m\"\u001b[39m, \u001b[38;5;124m\"\u001b[39m\u001b[38;5;124mPier1\u001b[39m\u001b[38;5;124m\"\u001b[39m, \u001b[38;5;124m\"\u001b[39m\u001b[38;5;124mPier2\u001b[39m\u001b[38;5;124m\"\u001b[39m, \u001b[38;5;124m\"\u001b[39m\u001b[38;5;124mAbut2\u001b[39m\u001b[38;5;124m\"\u001b[39m],\n\u001b[0;32m    179\u001b[0m                    \u001b[38;5;124m\"\u001b[39m\u001b[38;5;124m$$W_j$$\u001b[39m\u001b[38;5;124m\"\u001b[39m: W,\u001b[38;5;124m\"\u001b[39m\u001b[38;5;124m$$Q_\u001b[39m\u001b[38;5;124m{\u001b[39m\u001b[38;5;124md,j}$$\u001b[39m\u001b[38;5;124m\"\u001b[39m:Q_dj, \u001b[38;5;124m\"\u001b[39m\u001b[38;5;124m$$K_\u001b[39m\u001b[38;5;124m{\u001b[39m\u001b[38;5;124md,j}$$\u001b[39m\u001b[38;5;124m\"\u001b[39m:K_dj,\n\u001b[0;32m    180\u001b[0m                    \u001b[38;5;124m\"\u001b[39m\u001b[38;5;124m$$K_\u001b[39m\u001b[38;5;124m{\u001b[39m\u001b[38;5;124msub,j}$$\u001b[39m\u001b[38;5;124m\"\u001b[39m: K_sub,\u001b[38;5;124m\"\u001b[39m\u001b[38;5;124m$\u001b[39m\u001b[38;5;130;01m\\\\\u001b[39;00m\u001b[38;5;124malpha_j$\u001b[39m\u001b[38;5;124m\"\u001b[39m: alpha_j,\n\u001b[1;32m--> 181\u001b[0m                    \u001b[38;5;124m\"\u001b[39m\u001b[38;5;124m$$F_\u001b[39m\u001b[38;5;124m{\u001b[39m\u001b[38;5;124msub,j}$$\u001b[39m\u001b[38;5;124m\"\u001b[39m: \u001b[38;5;124mf\u001b[39m\u001b[38;5;124m\"\u001b[39m\u001b[38;5;132;01m{\u001b[39;00mF_subj\u001b[38;5;132;01m:\u001b[39;00m\u001b[38;5;124m.2f\u001b[39m\u001b[38;5;132;01m}\u001b[39;00m\u001b[38;5;124m\"\u001b[39m, \u001b[38;5;124m\"\u001b[39m\u001b[38;5;124m$$T_\u001b[39m\u001b[38;5;132;01m{eff}\u001b[39;00m\u001b[38;5;124m$$\u001b[39m\u001b[38;5;124m\"\u001b[39m: T_eff  })\n\u001b[0;32m    183\u001b[0m \u001b[38;5;66;03m#return print(f'Number of iteration: {i_count}\\n Expected structure displacement: {d_new}\\n Wj: {W}\\nK_dj:{K_dj}\\nK_subj:{K_sub}\\nQ_dj: {Q_dj}\\nalpha_j:{alpha_j}\\nK_effj:{K_effj}\\n d_isolj: {d_isolj}\\n K_isolj:{K_isolj}\\n d_subj:{d_subj}'),\u001b[39;00m\n\u001b[0;32m    184\u001b[0m  \n\u001b[0;32m    185\u001b[0m      \n\u001b[0;32m    186\u001b[0m \u001b[38;5;66;03m#return print(f'Number of iteration: {i_count}\\n'),print(f'Expected structure displacement: {d_new}\\n Wj: {W}\\nK_dj:{K_dj}\\nK_subj:{K_sub}\\nQ_dj: {Q_dj}\\nalpha_j:{alpha_j}\\nK_effj:{K_effj}\\n d_isolj: {d_isolj}\\n K_isolj:{K_isolj}\\n d_subj:{d_subj}'),\u001b[39;00m\n\u001b[0;32m    187\u001b[0m \n\u001b[0;32m    188\u001b[0m \u001b[38;5;66;03m#return print(f'Number of iteration: {i_count}\\n'),print(f'Expected structure displacement: {d_new} \\n T_eff: {T_eff}')#\\n Wj: {W}\\nK_dj:{K_dj}\\nK_subj:{K_sub}\\nQ_dj: {Q_dj}\\nalpha_j:{alpha_j}\\nK_effj:{K_effj}\\n d_isolj: {d_isolj}\\n K_isolj:{K_isolj}\\n d_subj:{d_subj}'),\u001b[39;00m\n\u001b[0;32m    189\u001b[0m \u001b[38;5;28;01mreturn\u001b[39;00m df\n",
      "\u001b[1;31mTypeError\u001b[0m: unsupported format string passed to list.__format__"
     ]
    }
   ],
   "source": [
    "epsilon=0.0001\n",
    "d=1\n",
    "Iteration(m,n,n_c,W_SS, W_PP,W,K_sub,angle_skew,S_D1, epsilon,d)"
   ]
  },
  {
   "cell_type": "code",
   "execution_count": null,
   "id": "87d12549-808f-4c12-a6a2-0f294814b654",
   "metadata": {},
   "outputs": [],
   "source": []
  },
  {
   "cell_type": "code",
   "execution_count": null,
   "id": "e4251e8e-6b80-4a80-ba82-4a9ec78c8e21",
   "metadata": {},
   "outputs": [],
   "source": []
  }
 ],
 "metadata": {
  "kernelspec": {
   "display_name": "Python 3 (ipykernel)",
   "language": "python",
   "name": "python3"
  },
  "language_info": {
   "codemirror_mode": {
    "name": "ipython",
    "version": 3
   },
   "file_extension": ".py",
   "mimetype": "text/x-python",
   "name": "python",
   "nbconvert_exporter": "python",
   "pygments_lexer": "ipython3",
   "version": "3.10.9"
  }
 },
 "nbformat": 4,
 "nbformat_minor": 5
}
