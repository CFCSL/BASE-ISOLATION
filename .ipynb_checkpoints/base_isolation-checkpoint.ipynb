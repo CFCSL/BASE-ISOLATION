{
 "cells": [
  {
   "cell_type": "code",
   "execution_count": 1,
   "id": "2b4fc148-d589-49d9-a023-83fc283320db",
   "metadata": {},
   "outputs": [
    {
     "name": "stdout",
     "output_type": "stream",
     "text": [
      "0.75\n"
     ]
    }
   ],
   "source": [
    "import pandas as pd \n",
    "from Response_Spectrum import *\n",
    "from sympy import symbols, Eq, Function,UnevaluatedExpr, Mul\n",
    "from sympy import *\n",
    "from sympy import N\n",
    "init_printing()\n",
    "from sympy import Piecewise, nan\n",
    "import numpy as np\n"
   ]
  },
  {
   "cell_type": "code",
   "execution_count": 64,
   "id": "d5c87bd4-c2b2-451b-91f5-930cac641238",
   "metadata": {},
   "outputs": [],
   "source": [
    "def round_expr(expr, num_digits=2):\n",
    "    return expr.xreplace({n : round(n, num_digits) for n in expr.atoms(Number)})\n",
    "\n",
    "def round_equation(eq, num_digits=2):\n",
    "    lhs = eq.lhs\n",
    "    rhs = eq.rhs\n",
    "    rounded_rhs = round_expr(rhs, num_digits)\n",
    "    return Eq(lhs, rounded_rhs)"
   ]
  },
  {
   "cell_type": "code",
   "execution_count": 65,
   "id": "76ed746e-6f21-44d2-be75-a54072eac898",
   "metadata": {},
   "outputs": [],
   "source": [
    "m,n, W_SS, W_PP, W_eff, T=symbols ('m n  W_SS  W_PP  W_eff T')\n",
    "PGA, S_1, S_S=symbols('PGA, S_1, S_S')\n",
    "F_pga, F_a, F_v=symbols('F_pga F_a F_v')\n",
    "d_isol, d_y, F_isol, F_y,K_d, K_isol,K_u, Q_d=symbols('d_isol d_y F_isol  F_y K_d K_isol K_u  Q_d')\n",
    "C_sm, F_pga, F_a, F_v, A_S, S_DS,S_D1=symbols('C_sm F_pga F_a F_v A_S S_DS S_D1')\n",
    "\n",
    "d=symbols ('d')\n",
    "T_eff,B_L=symbols('T_eff B_L')"
   ]
  },
  {
   "cell_type": "code",
   "execution_count": 66,
   "id": "77abe88f-faf4-4b7b-a3c3-79d408053899",
   "metadata": {},
   "outputs": [],
   "source": [
    "#C_sm_val, F_pga_val, F_a_val, F_v_val, A_S_val, S_DS_val, S_D1-val=\n",
    "#C_sm, F_pga, F_a, F_v, A_S, S_DS,S_D1\n",
    "C_sm_val, F_pga_val, F_a_val, F_v_val, A_S_val, S_DS_val, S_D1_val=AASHTO(T=1, PGA=0.4,S_S=0.75,S_1=0.2,SiteClass=\"B\")\n",
    "# Convert the first element of the array to a numpy number\n",
    "scalar_value = C_sm_val.item()"
   ]
  },
  {
   "cell_type": "code",
   "execution_count": 67,
   "id": "bc980256-7935-47d2-8de8-0622addc5b9e",
   "metadata": {},
   "outputs": [
    {
     "data": {
      "image/png": "[encoded data removed]",
      "text/latex": [
       "$\\displaystyle C_{sm} = 0.2$"
      ],
      "text/plain": [
       "Cₛₘ = 0.2"
      ]
     },
     "execution_count": 67,
     "metadata": {},
     "output_type": "execute_result"
    }
   ],
   "source": [
    "Eq(C_sm,scalar_value)"
   ]
  },
  {
   "cell_type": "code",
   "execution_count": 68,
   "id": "3a9fa4bd-c7b9-4852-977e-7d614fc52128",
   "metadata": {},
   "outputs": [],
   "source": [
    "xi = symbols('xi')\n",
    "def B_L_func(xi):\n",
    "   # cond1=xi<0.3\n",
    "    #cond2=xi>=0.3\n",
    "    #cond2 = And(xi >= 0.3, Not(xi >= 0.3))\n",
    "    \n",
    "    #val1=(xi/0.05)**0.3\n",
    "    #val2=1.7\n",
    "    \n",
    "    \n",
    "    #val= Piecewise([(val1, cond1),(val2, cond2)])\n",
    "    \n",
    "    if xi<0.3:\n",
    "        val=(xi/0.05)**0.3\n",
    "    else:\n",
    "        val=1.7\n",
    "    \n",
    "    return val\n",
    "    "
   ]
  },
  {
   "cell_type": "code",
   "execution_count": 69,
   "id": "6546d218-3dfb-4bc1-af92-7986f0185b1e",
   "metadata": {},
   "outputs": [
    {
     "data": {
      "image/png": "[encoded data removed]",
      "text/latex": [
       "$\\displaystyle 1.7$"
      ],
      "text/plain": [
       "1.7"
      ]
     },
     "execution_count": 69,
     "metadata": {},
     "output_type": "execute_result"
    }
   ],
   "source": [
    "B_L_func(xi=0.31)"
   ]
  },
  {
   "cell_type": "markdown",
   "id": "4f39445c-57ad-4d1d-8167-7557a0d5aa94",
   "metadata": {},
   "source": [
    "(1)\n",
    "Structure displacement, $d$. One way to make this estimate is to assume the effective isolation period, $T_{eff}$, is $1.0$ second, take the viscous damping ratio, $\\xi$ , to be 5 percent, and calculate\n",
    "the displacement using Eq. B2.7.2.1.1-1 (The damping factor, $B_L$, is given by Eq. 7.1-3, and equals $1.0$ in this case.)\n",
    "Article C7.1 $d = \\frac{9.79 S_{D1}T_{eff}}{B_L} \\approx 10 S_{D1} $\n",
    "(B2.7.2.1.1-1)"
   ]
  },
  {
   "cell_type": "code",
   "execution_count": 70,
   "id": "f26c6656-ef40-430e-a3a6-d399245fa529",
   "metadata": {},
   "outputs": [],
   "source": [
    "\n",
    "\n",
    "def d_func(S_D1=S_D1, T_eff=T_eff, B_L=B_L):\n",
    "    \n",
    "    #S_D1=UnevaluatedExpr('S_D1')\n",
    "    #T_eff=UnevaluatedExpr('T_eff')\n",
    "    #B_L=UnevaluatedExpr('B_L')\n",
    "    #d=UnevaluatedExpr('d') \n",
    "    \n",
    "    val= 9.79*S_D1*T_eff/B_L\n",
    "    \n",
    "    return Eq(d, val, evaluate=False)"
   ]
  },
  {
   "cell_type": "code",
   "execution_count": 71,
   "id": "189281f0-f587-4d3e-8591-84906b6c6b5d",
   "metadata": {},
   "outputs": [
    {
     "data": {
      "image/png": "[encoded data removed]",
      "text/latex": [
       "$\\displaystyle d = \\frac{9.79 S_{D1} T_{eff}}{B_{L}}$"
      ],
      "text/plain": [
       "    9.79⋅S_D1⋅T_eff\n",
       "d = ───────────────\n",
       "          B_L      "
      ]
     },
     "execution_count": 71,
     "metadata": {},
     "output_type": "execute_result"
    }
   ],
   "source": [
    "d_func()"
   ]
  },
  {
   "cell_type": "code",
   "execution_count": 72,
   "id": "79b5b921-1fdb-4a21-ad00-69cf1d0bbc0a",
   "metadata": {},
   "outputs": [
    {
     "data": {
      "image/png": "[encoded data removed]",
      "text/latex": [
       "$\\displaystyle d = 1.15 T_{eff}$"
      ],
      "text/plain": [
       "d = 1.15⋅T_eff"
      ]
     },
     "execution_count": 72,
     "metadata": {},
     "output_type": "execute_result"
    }
   ],
   "source": [
    "round_equation(d_func(S_D1=S_D1_val, B_L=B_L_func(xi=0.31)),2)"
   ]
  },
  {
   "cell_type": "markdown",
   "id": "8c46914b-ba5c-4c89-875e-542f0e499010",
   "metadata": {},
   "source": [
    "(2) Characteristic strength, $Q_d$. This strength needs to be high enough that yield does not occur under non-seismic loads (e.g., wind) but low enough that yield will occur during an earthquake. Experience has shown that taking $Q_d$ to be $5$ percent of the bridge weight is a good starting point, i.e.,\n",
    "$Q_d =0.05 W$ (B2.7.2.1.1-2)"
   ]
  },
  {
   "cell_type": "code",
   "execution_count": 73,
   "id": "2789ccbd-c82a-4a23-9fa9-64ee8a8bad9e",
   "metadata": {},
   "outputs": [],
   "source": [
    "Q_d, W=symbols('Q_d W')\n",
    "\n",
    "def Q_d_func(W=W):\n",
    "    val= 0.05*W\n",
    "    return Eq(Q_d, val, evaluate=False)"
   ]
  },
  {
   "cell_type": "code",
   "execution_count": 74,
   "id": "af1876a0-8ba7-4c5d-b403-f486bba464ba",
   "metadata": {},
   "outputs": [
    {
     "data": {
      "image/png": "[encoded data removed]",
      "text/latex": [
       "$\\displaystyle Q_{d} = 33.931$"
      ],
      "text/plain": [
       "Q_d = 33.931"
      ]
     },
     "execution_count": 74,
     "metadata": {},
     "output_type": "execute_result"
    }
   ],
   "source": [
    "Q_d_func(W=678.62)"
   ]
  },
  {
   "cell_type": "markdown",
   "id": "2840980a-d32e-4e3a-bfcd-6c0feb83a0a0",
   "metadata": {},
   "source": [
    "(3) Post-yield stiffness, $K_d$.\n",
    "Article 12.2 requires that all isolators exhibit a minimum lateral restoring force at the design displacement, which translates to a minimum post-yield stiffness, $K_{d,min}$, given by Eq. B2.7.2.1.1-3."
   ]
  },
  {
   "cell_type": "code",
   "execution_count": 150,
   "id": "2cd3fe41-968b-4ad0-9a91-dd9cc7b05026",
   "metadata": {},
   "outputs": [],
   "source": [
    "K_d= symbols('K_d')\n",
    "def K_d_func(W=W,d=d):\n",
    "    K_d_min= 0.025*W/d\n",
    "    return round_equation(Eq(K_d, 2*K_d_min, evaluate= False))"
   ]
  },
  {
   "cell_type": "code",
   "execution_count": 151,
   "id": "55ca5d0e-2b18-4858-9bde-a0995cbf08ad",
   "metadata": {},
   "outputs": [
    {
     "data": {
      "image/png": "[encoded data removed]",
      "text/latex": [
       "$\\displaystyle K_{d} = \\frac{0.05 W}{d}$"
      ],
      "text/plain": [
       "      0.05⋅W\n",
       "K_d = ──────\n",
       "        d   "
      ]
     },
     "metadata": {},
     "output_type": "display_data"
    },
    {
     "data": {
      "image/png": "[encoded data removed]",
      "text/latex": [
       "$\\displaystyle K_{d} = 16.97$"
      ],
      "text/plain": [
       "K_d = 16.97"
      ]
     },
     "metadata": {},
     "output_type": "display_data"
    }
   ],
   "source": [
    "display(K_d_func())\n",
    "display(K_d_func(W=678.62, d=2.0))"
   ]
  },
  {
   "cell_type": "markdown",
   "id": "d08877e8-dabd-4bd3-9f7d-aac28b0bb1b2",
   "metadata": {},
   "source": [
    "## B2.7.2.1.2—Step B1.2: Initial Isolator Properties at Supports, Example 1.6\n",
    "Calculate the characteristic strength, $Q_{d,j}$, and post- elastic stiffness, $K_{d,j}$, of the isolation system at each support $“j”$ by distributing the total calculated strength, $Q_d$, and stiffness, $K_d$, values in proportion to the dead load applied at that support:\n",
    "$$Q_{d,j} = Q_d \\frac{W j}{W} \\qquad (B2.7.2.1.2-1)  $$ \n",
    "\n",
    "and \n",
    "\n",
    "$$K_{d,j} = K_d \\frac{W_j}{W}\\qquad  (B2.7.2.1.2-2)$$\n",
    "\n",
    "\n",
    "\n"
   ]
  },
  {
   "cell_type": "code",
   "execution_count": 152,
   "id": "6be4f7a1-5bd1-4e2c-95d0-7deb2caddee3",
   "metadata": {},
   "outputs": [],
   "source": [
    "# Input W_j=[W_1,W_2,W_3,W_4]\n",
    "W0=[51.98,287.33,287.33,51.98]\n",
    "\n",
    "W_j, Q_dj, K_dj=symbols ('W_j Q_dj K_dj')\n",
    "\n",
    "def Q_dj_func(Q_d=Q_d, W_j=W_j, W=W):\n",
    "    \n",
    "    val = Q_d * W_j / W\n",
    "    \n",
    "    return round_equation(Eq(Q_dj, val, evaluate=False ))\n",
    "\n",
    "def K_dj_func(K_d=K_d, W_j=W_j, W=W):\n",
    "    \n",
    "    val = K_d * W_j / W\n",
    "    \n",
    "    return round_equation(Eq(K_dj, val, evaluate=False ))\n",
    "  \n",
    "\n"
   ]
  },
  {
   "cell_type": "code",
   "execution_count": 130,
   "id": "2e3632d0-8779-4a2e-a0bf-f705a58d407a",
   "metadata": {},
   "outputs": [
    {
     "data": {
      "image/png": "[encoded data removed]",
      "text/latex": [
       "$\\displaystyle 33.931$"
      ],
      "text/plain": [
       "33.9310000000000"
      ]
     },
     "execution_count": 130,
     "metadata": {},
     "output_type": "execute_result"
    }
   ],
   "source": [
    "Q_d_func(W=678.62).rhs"
   ]
  },
  {
   "cell_type": "code",
   "execution_count": 154,
   "id": "bf3dae80-286f-4ac7-beee-66f2a74f79c9",
   "metadata": {},
   "outputs": [
    {
     "name": "stdout",
     "output_type": "stream",
     "text": [
      "j=1:\n",
      " Q_dj=2.60\n",
      " K_dj=1.30\n",
      "\n",
      "j=2:\n",
      " Q_dj=14.37\n",
      " K_dj=7.19\n",
      "\n",
      "j=3:\n",
      " Q_dj=14.37\n",
      " K_dj=7.19\n",
      "\n",
      "j=4:\n",
      " Q_dj=2.60\n",
      " K_dj=1.30\n",
      "\n"
     ]
    }
   ],
   "source": [
    "Q_dj_list=[]\n",
    "K_dj_list=[]\n",
    "for j in range(1, len(W0) + 1):\n",
    "    print(f'j={j}:')\n",
    "    \n",
    "    Q_d_val = Q_d_func(W=678.62).rhs  # Replace this with the actual Q_d value calculation\n",
    "    K_d_val = K_d_func(W=678.62, d=2.0).rhs\n",
    "    \n",
    "    val_Q = Q_dj_func(Q_d=Q_d_val, W_j=W0[j-1], W=678.62).rhs\n",
    "    val_K = K_dj_func(K_d=K_d_val, W_j=W0[j-1], W=678.62).rhs\n",
    "    \n",
    "    print(f' Q_dj={val_Q}')\n",
    "    print(f' K_dj={val_K}\\n')\n",
    "    \n",
    "    Q_dj_list.append(val)\n",
    "    \n",
    "    K_dj_list.append(val)\n",
    "    \n",
    "    "
   ]
  },
  {
   "cell_type": "markdown",
   "id": "15518a45-58a8-4a8e-a6aa-7bea5166b8cd",
   "metadata": {},
   "source": [
    "## B2.7.2.1.3—Step B1.3: Effective Stiffness of Combined Pier and Isolator System, Example 1.6"
   ]
  },
  {
   "cell_type": "code",
   "execution_count": 156,
   "id": "e561b2bf-47ff-4058-bc74-e635363b9f57",
   "metadata": {},
   "outputs": [],
   "source": [
    "def alpha_j():\n",
    "    val=(K_dj*d+Q_dj)/(K_subj*d-Q_dj)\n",
    "    return Eq(alpha_j,val)\n",
    "    "
   ]
  },
  {
   "cell_type": "code",
   "execution_count": null,
   "id": "c3efd577-dc8d-4770-8a60-f51d40b0f7e6",
   "metadata": {},
   "outputs": [],
   "source": []
  }
 ],
 "metadata": {
  "kernelspec": {
   "display_name": "Python 3 (ipykernel)",
   "language": "python",
   "name": "python3"
  },
  "language_info": {
   "codemirror_mode": {
    "name": "ipython",
    "version": 3
   },
   "file_extension": ".py",
   "mimetype": "text/x-python",
   "name": "python",
   "nbconvert_exporter": "python",
   "pygments_lexer": "ipython3",
   "version": "3.9.16"
  }
 },
 "nbformat": 4,
 "nbformat_minor": 5
}
