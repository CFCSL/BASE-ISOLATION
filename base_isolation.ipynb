{
 "cells": [
  {
   "cell_type": "code",
   "execution_count": 1,
   "id": "2b4fc148-d589-49d9-a023-83fc283320db",
   "metadata": {
    "tags": []
   },
   "outputs": [
    {
     "name": "stdout",
     "output_type": "stream",
     "text": [
      "0.75\n"
     ]
    }
   ],
   "source": [
    "import pandas as pd \n",
    "from Response_Spectrum import *\n",
    "from sympy import symbols, Eq, Function,UnevaluatedExpr, Mul\n",
    "from sympy import *\n",
    "\n",
    "init_printing()\n",
    "from sympy import Piecewise, nan\n",
    "import numpy as np\n"
   ]
  },
  {
   "cell_type": "code",
   "execution_count": 2,
   "id": "d5c87bd4-c2b2-451b-91f5-930cac641238",
   "metadata": {},
   "outputs": [],
   "source": [
    "def round_expr(expr, num_digits=2):\n",
    "    return expr.xreplace({n : round(n, num_digits) for n in expr.atoms(Number)})\n",
    "\n",
    "def round_equation(eq, num_digits=2):\n",
    "    lhs = eq.lhs\n",
    "    rhs = eq.rhs\n",
    "    rounded_rhs = round_expr(rhs, num_digits)\n",
    "    return Eq(lhs, rounded_rhs)"
   ]
  },
  {
   "cell_type": "code",
   "execution_count": 3,
   "id": "76ed746e-6f21-44d2-be75-a54072eac898",
   "metadata": {},
   "outputs": [],
   "source": [
    "m,n, W_SS, W_PP, W_eff, T=symbols ('m n  W_SS  W_PP  W_eff T')\n",
    "PGA, S_1, S_S=symbols('PGA, S_1, S_S')\n",
    "F_pga, F_a, F_v=symbols('F_pga F_a F_v')\n",
    "d_isol, d_y, F_isol, F_y,K_d, K_isol,K_u, Q_d=symbols('d_isol d_y F_isol  F_y K_d K_isol K_u  Q_d')\n",
    "C_sm, F_pga, F_a, F_v, A_S, S_DS,S_D1=symbols('C_sm F_pga F_a F_v A_S S_DS S_D1')\n",
    "\n",
    "d=symbols ('d')\n",
    "T_eff,B_L=symbols('T_eff B_L')"
   ]
  },
  {
   "cell_type": "code",
   "execution_count": 4,
   "id": "77abe88f-faf4-4b7b-a3c3-79d408053899",
   "metadata": {},
   "outputs": [],
   "source": [
    "#C_sm_val, F_pga_val, F_a_val, F_v_val, A_S_val, S_DS_val, S_D1-val=\n",
    "#C_sm, F_pga, F_a, F_v, A_S, S_DS,S_D1\n",
    "C_sm_val, F_pga_val, F_a_val, F_v_val, A_S_val, S_DS_val, S_D1_val=AASHTO(T=1, PGA=0.4,S_S=0.75,S_1=0.2,SiteClass=\"B\")\n",
    "# Convert the first element of the array to a numpy number\n",
    "scalar_value = C_sm_val.item()"
   ]
  },
  {
   "cell_type": "code",
   "execution_count": 5,
   "id": "bc980256-7935-47d2-8de8-0622addc5b9e",
   "metadata": {},
   "outputs": [],
   "source": [
    "#Eq(C_sm,scalar_value)"
   ]
  },
  {
   "cell_type": "code",
   "execution_count": 6,
   "id": "3a9fa4bd-c7b9-4852-977e-7d614fc52128",
   "metadata": {},
   "outputs": [],
   "source": [
    "xi = symbols('xi')\n",
    "def B_L_func(xi):\n",
    "    \n",
    "    if xi<0.3:\n",
    "        val=(xi/0.05)**0.3\n",
    "    else:\n",
    "        val=1.7\n",
    "    \n",
    "    return val\n",
    "    "
   ]
  },
  {
   "cell_type": "code",
   "execution_count": 7,
   "id": "6546d218-3dfb-4bc1-af92-7986f0185b1e",
   "metadata": {},
   "outputs": [
    {
     "data": {
      "image/png": "[encoded data removed]",
      "text/latex": [
       "$\\displaystyle 1.0$"
      ],
      "text/plain": [
       "1.0"
      ]
     },
     "execution_count": 7,
     "metadata": {},
     "output_type": "execute_result"
    }
   ],
   "source": [
    "B_L_func(xi=0.05)"
   ]
  },
  {
   "cell_type": "markdown",
   "id": "4f39445c-57ad-4d1d-8167-7557a0d5aa94",
   "metadata": {},
   "source": [
    "(1)\n",
    "Structure displacement, $d$. One way to make this estimate is to assume the effective isolation period, $T_{eff}$, is $1.0$ second, take the viscous damping ratio, $\\xi$ , to be 5 percent, and calculate\n",
    "the displacement using Eq. B2.7.2.1.1-1 (The damping factor, $B_L$, is given by Eq. 7.1-3, and equals $1.0$ in this case.)\n",
    "Article C7.1 $d = \\frac{9.79 S_{D1}T_{eff}}{B_L} \\approx 10 S_{D1} $\n",
    "(B2.7.2.1.1-1)"
   ]
  },
  {
   "cell_type": "code",
   "execution_count": 8,
   "id": "f26c6656-ef40-430e-a3a6-d399245fa529",
   "metadata": {},
   "outputs": [],
   "source": [
    "\n",
    "def d_func(S_D1=S_D1, T_eff=T_eff, B_L=B_L):\n",
    "    \n",
    "    #S_D1=UnevaluatedExpr('S_D1')\n",
    "    #T_eff=UnevaluatedExpr('T_eff')\n",
    "    #B_L=UnevaluatedExpr('B_L')\n",
    "    #d=UnevaluatedExpr('d') \n",
    "    \n",
    "    val= 9.79*S_D1*T_eff/B_L\n",
    "    \n",
    "    return Eq(d, val, evaluate=False)"
   ]
  },
  {
   "cell_type": "code",
   "execution_count": 9,
   "id": "189281f0-f587-4d3e-8591-84906b6c6b5d",
   "metadata": {},
   "outputs": [
    {
     "data": {
      "image/png": "[encoded data removed]",
      "text/latex": [
       "$\\displaystyle d = \\frac{9.79 S_{D1} T_{eff}}{B_{L}}$"
      ],
      "text/plain": [
       "    9.79⋅S_D1⋅T_eff\n",
       "d = ───────────────\n",
       "          B_L      "
      ]
     },
     "execution_count": 9,
     "metadata": {},
     "output_type": "execute_result"
    }
   ],
   "source": [
    "d_func()"
   ]
  },
  {
   "cell_type": "code",
   "execution_count": 10,
   "id": "79b5b921-1fdb-4a21-ad00-69cf1d0bbc0a",
   "metadata": {},
   "outputs": [
    {
     "data": {
      "image/png": "[encoded data removed]",
      "text/latex": [
       "$\\displaystyle 1.958$"
      ],
      "text/plain": [
       "1.95800000000000"
      ]
     },
     "metadata": {},
     "output_type": "display_data"
    }
   ],
   "source": [
    "d_val=d_func(S_D1=S_D1_val,T_eff=1.0, B_L=B_L_func(xi=0.05)).rhs\n",
    "\n",
    "display(d_val)"
   ]
  },
  {
   "cell_type": "markdown",
   "id": "8c46914b-ba5c-4c89-875e-542f0e499010",
   "metadata": {},
   "source": [
    "(2) Characteristic strength, $Q_d$. This strength needs to be high enough that yield does not occur under non-seismic loads (e.g., wind) but low enough that yield will occur during an earthquake. Experience has shown that taking $Q_d$ to be $5$ percent of the bridge weight is a good starting point, i.e.,\n",
    "$Q_d =0.05 W$ (B2.7.2.1.1-2)"
   ]
  },
  {
   "cell_type": "code",
   "execution_count": 11,
   "id": "2789ccbd-c82a-4a23-9fa9-64ee8a8bad9e",
   "metadata": {},
   "outputs": [],
   "source": [
    "Q_d, W=symbols('Q_d W')\n",
    "\n",
    "def Q_d_func(W=W):\n",
    "    val= 0.05*W\n",
    "    return round_equation(Eq(Q_d, val, evaluate=False))"
   ]
  },
  {
   "cell_type": "code",
   "execution_count": 12,
   "id": "af1876a0-8ba7-4c5d-b403-f486bba464ba",
   "metadata": {},
   "outputs": [
    {
     "data": {
      "image/png": "[encoded data removed]",
      "text/latex": [
       "$\\displaystyle Q_{d} = 33.93$"
      ],
      "text/plain": [
       "Q_d = 33.93"
      ]
     },
     "execution_count": 12,
     "metadata": {},
     "output_type": "execute_result"
    }
   ],
   "source": [
    "Q_d_func(W=678.62)"
   ]
  },
  {
   "cell_type": "markdown",
   "id": "2840980a-d32e-4e3a-bfcd-6c0feb83a0a0",
   "metadata": {},
   "source": [
    "(3) Post-yield stiffness, $K_d$.\n",
    "Article 12.2 requires that all isolators exhibit a minimum lateral restoring force at the design displacement, which translates to a minimum post-yield stiffness, $K_{d,min}$, given by Eq. B2.7.2.1.1-3."
   ]
  },
  {
   "cell_type": "code",
   "execution_count": 13,
   "id": "2cd3fe41-968b-4ad0-9a91-dd9cc7b05026",
   "metadata": {},
   "outputs": [],
   "source": [
    "K_d= symbols('K_d')\n",
    "def K_d_func(W=W,d=d):\n",
    "    K_d_min= 0.025*W/d\n",
    "    return round_equation(Eq(K_d, 2*K_d_min, evaluate= False))"
   ]
  },
  {
   "cell_type": "code",
   "execution_count": 14,
   "id": "55ca5d0e-2b18-4858-9bde-a0995cbf08ad",
   "metadata": {},
   "outputs": [
    {
     "data": {
      "image/png": "[encoded data removed]",
      "text/latex": [
       "$\\displaystyle K_{d} = \\frac{0.05 W}{d}$"
      ],
      "text/plain": [
       "      0.05⋅W\n",
       "K_d = ──────\n",
       "        d   "
      ]
     },
     "metadata": {},
     "output_type": "display_data"
    },
    {
     "data": {
      "image/png": "[encoded data removed]",
      "text/latex": [
       "$\\displaystyle K_{d} = 17.33$"
      ],
      "text/plain": [
       "K_d = 17.33"
      ]
     },
     "metadata": {},
     "output_type": "display_data"
    }
   ],
   "source": [
    "display(K_d_func())\n",
    "W_val=678.62\n",
    "display(K_d_func(W=W_val, d=d_val))"
   ]
  },
  {
   "cell_type": "markdown",
   "id": "d08877e8-dabd-4bd3-9f7d-aac28b0bb1b2",
   "metadata": {},
   "source": [
    "## B2.7.2.1.2—Step B1.2: Initial Isolator Properties at Supports, Example 1.6\n",
    "Calculate the characteristic strength, $Q_{d,j}$, and post- elastic stiffness, $K_{d,j}$, of the isolation system at each support $“j”$ by distributing the total calculated strength, $Q_d$, and stiffness, $K_d$, values in proportion to the dead load applied at that support:\n",
    "$$Q_{d,j} = Q_d \\frac{W j}{W} \\qquad (B2.7.2.1.2-1)  $$ \n",
    "\n",
    "and \n",
    "\n",
    "$$K_{d,j} = K_d \\frac{W_j}{W}\\qquad  (B2.7.2.1.2-2)$$\n",
    "\n",
    "\n",
    "\n"
   ]
  },
  {
   "cell_type": "code",
   "execution_count": 15,
   "id": "6be4f7a1-5bd1-4e2c-95d0-7deb2caddee3",
   "metadata": {},
   "outputs": [],
   "source": [
    "# Input W_j=[W_1,W_2,W_3,W_4]\n",
    "W0=[51.98,287.33,287.33,51.98]\n",
    "\n",
    "W_j, Q_dj, K_dj=symbols ('W_j Q_dj K_dj')\n",
    "\n",
    "def Q_dj_func(Q_d=Q_d, W_j=W_j, W=W):\n",
    "    \n",
    "    val = Q_d * W_j / W\n",
    "    \n",
    "    return round_equation(Eq(Q_dj, val, evaluate=False ))\n",
    "\n",
    "def K_dj_func(K_d=K_d, W_j=W_j, W=W):\n",
    "    \n",
    "    val = K_d * W_j / W\n",
    "    \n",
    "    return round_equation(Eq(K_dj, val, evaluate=False ))\n",
    "  \n",
    "\n"
   ]
  },
  {
   "cell_type": "code",
   "execution_count": 16,
   "id": "2e3632d0-8779-4a2e-a0bf-f705a58d407a",
   "metadata": {},
   "outputs": [
    {
     "name": "stdout",
     "output_type": "stream",
     "text": [
      "33.93\n",
      "17.33\n"
     ]
    }
   ],
   "source": [
    "Q_d_val=Q_d_func(W=W_val).rhs\n",
    "\n",
    "print(Q_d_val)\n",
    "\n",
    "K_d_val=K_d_func(W=W_val,d=d_val).rhs\n",
    "\n",
    "print(K_d_val)\n",
    "\n"
   ]
  },
  {
   "cell_type": "code",
   "execution_count": 17,
   "id": "bf3dae80-286f-4ac7-beee-66f2a74f79c9",
   "metadata": {},
   "outputs": [
    {
     "name": "stdout",
     "output_type": "stream",
     "text": [
      "j=1:\n",
      " Q_dj=2.60\n",
      " K_dj=1.33\n",
      "\n",
      "j=2:\n",
      " Q_dj=14.37\n",
      " K_dj=7.34\n",
      "\n",
      "j=3:\n",
      " Q_dj=14.37\n",
      " K_dj=7.34\n",
      "\n",
      "j=4:\n",
      " Q_dj=2.60\n",
      " K_dj=1.33\n",
      "\n"
     ]
    }
   ],
   "source": [
    "Q_dj_list=[]\n",
    "K_dj_list=[]\n",
    "for j in range(1, len(W0) + 1):\n",
    "    print(f'j={j}:')\n",
    "    \n",
    "    Q_d_val=Q_d_func(W=W_val).rhs\n",
    "    K_d_val=K_d_func(W=W_val,d=d_val).rhs\n",
    "    \n",
    "    val_Q = Q_dj_func(Q_d=Q_d_val, W_j=W0[j-1], W=W_val).rhs\n",
    "    val_K = K_dj_func(K_d=K_d_val, W_j=W0[j-1], W=W_val).rhs\n",
    "    \n",
    "    print(f' Q_dj={val_Q}')\n",
    "    print(f' K_dj={val_K}\\n')\n",
    "    \n",
    "    Q_dj_list.append(val_Q)\n",
    "    \n",
    "    K_dj_list.append(val_K)\n",
    "    \n",
    "    "
   ]
  },
  {
   "cell_type": "markdown",
   "id": "15518a45-58a8-4a8e-a6aa-7bea5166b8cd",
   "metadata": {},
   "source": [
    "## B2.7.2.1.3—Step B1.3: Effective Stiffness of Combined Pier and Isolator System, Example 1.6"
   ]
  },
  {
   "cell_type": "code",
   "execution_count": 18,
   "id": "e561b2bf-47ff-4058-bc74-e635363b9f57",
   "metadata": {},
   "outputs": [
    {
     "name": "stdout",
     "output_type": "stream",
     "text": [
      "j=1:\n",
      " alpha_1=0.00027\n",
      "j=2:\n",
      " alpha_2=0.00147\n",
      "j=3:\n",
      " alpha_3=0.00147\n",
      "j=4:\n",
      " alpha_4=0.00027\n"
     ]
    },
    {
     "data": {
      "image/png": "[encoded data removed]",
      "text/latex": [
       "$\\displaystyle \\left[ 0.00027, \\  0.00147, \\  0.00147, \\  0.00027\\right]$"
      ],
      "text/plain": [
       "[0.00027, 0.00147, 0.00147, 0.00027]"
      ]
     },
     "execution_count": 18,
     "metadata": {},
     "output_type": "execute_result"
    }
   ],
   "source": [
    "Q_dj_list\n",
    "K_dj_list\n",
    "K_subj= symbols('K_subj')\n",
    "alpha_j_list=[]\n",
    "\n",
    "for j in range(len(Q_dj_list)):\n",
    "   \n",
    "    Q_dj=Q_dj_list[j]\n",
    "    K_dj=K_dj_list[j]\n",
    "        \n",
    "    K_subj=10000 # kips/in\n",
    "    d=d_val\n",
    "    print(f'j={j+1}:')\n",
    "    alpha_j=(K_dj*d+Q_dj)/(K_subj*d-Q_dj)\n",
    "    alpha_j=alpha_j.round(5)\n",
    "    print(f' alpha_{j+1}={alpha_j}')\n",
    "    alpha_j_list.append(alpha_j)\n",
    "\n",
    "\n",
    "alpha_j_list\n",
    "    "
   ]
  },
  {
   "cell_type": "code",
   "execution_count": 19,
   "id": "378b132a-1796-4a7c-ac6b-2f20e11bbb36",
   "metadata": {},
   "outputs": [
    {
     "name": "stdout",
     "output_type": "stream",
     "text": [
      "j=1:\n",
      " K_eff_1=2.7\n",
      "j=2:\n",
      " K_eff_2=14.7\n",
      "j=3:\n",
      " K_eff_3=14.7\n",
      "j=4:\n",
      " K_eff_4=2.7\n"
     ]
    }
   ],
   "source": [
    "alpha_j_list\n",
    "\n",
    "K_effj_list=[]\n",
    "\n",
    "for j in range(len(alpha_j_list)):\n",
    "    print(f'j={j+1}:')\n",
    "    alpha_j=alpha_j_list[j]\n",
    "    K_subj=10000 # kips/in\n",
    "    K_effj= alpha_j*K_subj/(1-alpha_j)\n",
    "    print(f' K_eff_{j+1}={K_effj}')\n",
    "    K_effj_list.append(K_effj)\n",
    "    \n",
    "    "
   ]
  },
  {
   "cell_type": "code",
   "execution_count": 20,
   "id": "c3efd577-dc8d-4770-8a60-f51d40b0f7e6",
   "metadata": {},
   "outputs": [
    {
     "data": {
      "image/png": "[encoded data removed]",
      "text/latex": [
       "$\\displaystyle \\left[ 2.7, \\  14.7, \\  14.7, \\  2.7\\right]$"
      ],
      "text/plain": [
       "[2.7, 14.7, 14.7, 2.7]"
      ]
     },
     "execution_count": 20,
     "metadata": {},
     "output_type": "execute_result"
    }
   ],
   "source": [
    "K_effj_list"
   ]
  },
  {
   "cell_type": "markdown",
   "id": "ee21b1cc-300b-4796-bb26-d9a11a407f1e",
   "metadata": {},
   "source": [
    "## B2.7.2.1.4—Step B1.4: Total Effective Stiffness, Example 1.6\n",
    "\n",
    "Calculate the total effective stiffness, Keff, of the bridge:\n",
    "\n",
    "Eq. 7.1-6  $$\\qquad  K_{eff}=\\sum_{j=1}^{m} K_{eff,j}\\qquad  (B2.7.2.1.4-1)$$\n",
    "\n"
   ]
  },
  {
   "cell_type": "code",
   "execution_count": 21,
   "id": "90fd2dc0-f42b-4949-8865-5f8c307a5888",
   "metadata": {},
   "outputs": [
    {
     "data": {
      "image/png": "[encoded data removed]",
      "text/latex": [
       "$\\displaystyle K_{eff} = 34.8$"
      ],
      "text/plain": [
       "K_eff = 34.8"
      ]
     },
     "execution_count": 21,
     "metadata": {},
     "output_type": "execute_result"
    }
   ],
   "source": [
    "K_eff=symbols('K_eff')\n",
    "\n",
    "K_eff_val=sum(K_effj_list)\n",
    "\n",
    "Eq(K_eff, K_eff_val)"
   ]
  },
  {
   "cell_type": "markdown",
   "id": "3e9f515f-3253-4e2f-a72c-a2c20221e83c",
   "metadata": {},
   "source": [
    "## B2.7.2.1.5—Step B1.5: Isolation System Displacement at Each Support, Example 1.6\n",
    "\n",
    "Calculate the displacement of the isolation system at support $‘j’$,  $d_{isol,j}$, for all supports:\n",
    "\n",
    "$$ d_{isol,j}= \\frac{d}{1+\\alpha_j}\\qquad  (B2.7.2.1.5-1)$$\n",
    "\n"
   ]
  },
  {
   "cell_type": "code",
   "execution_count": 22,
   "id": "660db0b0-6ad7-43e8-82c2-33961612cd51",
   "metadata": {},
   "outputs": [
    {
     "data": {
      "image/png": "[encoded data removed]",
      "text/latex": [
       "$\\displaystyle \\left[ 1.958, \\  1.95513603120429, \\  1.95513603120429, \\  1.958\\right]$"
      ],
      "text/plain": [
       "[1.958, 1.95513603120429, 1.95513603120429, 1.958]"
      ]
     },
     "execution_count": 22,
     "metadata": {},
     "output_type": "execute_result"
    }
   ],
   "source": [
    "d_isol_j_list=[]\n",
    "for alpha_j in alpha_j_list:\n",
    "    d_isol_j= d/(1+alpha_j)\n",
    "    d_isol_j_list.append(d_isol_j)\n",
    "d_isol_j_list    "
   ]
  },
  {
   "cell_type": "markdown",
   "id": "e3f3737c-72a1-4d84-86ed-1279f084268f",
   "metadata": {},
   "source": [
    " ## B2.7.2.1.6—Step B1.6: Isolation System Stiffness at Each Support, Example 1.6\n",
    " \n",
    " Calculate the effective stiffness of the isolation system at support $“j”$, $K_{isol,j}$, for all supports:\n",
    " \n",
    " $$ K_{isol,j}=\\frac{Q_{d,j}}{d_{isol,j}}+K_{d,j} \\qquad (B2.7.2.1.6-1)$$\n",
    " "
   ]
  },
  {
   "cell_type": "code",
   "execution_count": 23,
   "id": "44882bab-283b-41e0-810c-e354f79dc195",
   "metadata": {},
   "outputs": [],
   "source": [
    "m= len(alpha_j_list)"
   ]
  },
  {
   "cell_type": "code",
   "execution_count": null,
   "id": "09f7f8fe-339e-411f-a6e1-87d5e9db2971",
   "metadata": {},
   "outputs": [],
   "source": []
  },
  {
   "cell_type": "code",
   "execution_count": null,
   "id": "016cde50-f047-4542-9819-b76632e90502",
   "metadata": {},
   "outputs": [],
   "source": []
  },
  {
   "cell_type": "code",
   "execution_count": 24,
   "id": "88e85e22-7bfa-4c43-ae8b-1a1e519257b0",
   "metadata": {},
   "outputs": [
    {
     "data": {
      "image/png": "[encoded data removed]",
      "text/latex": [
       "$\\displaystyle \\left[ 2.66, \\  14.69, \\  14.69, \\  2.66\\right]$"
      ],
      "text/plain": [
       "[2.66, 14.69, 14.69, 2.66]"
      ]
     },
     "execution_count": 24,
     "metadata": {},
     "output_type": "execute_result"
    }
   ],
   "source": [
    "K_isol_j_list=[]\n",
    "for j in range(m):\n",
    "    K_isol_j=round(Q_dj_list[j]/d_isol_j_list[j]+K_dj_list[j],2)\n",
    "    K_isol_j_list.append(K_isol_j)\n",
    "    \n",
    "K_isol_j_list\n",
    "    \n",
    "    "
   ]
  },
  {
   "cell_type": "markdown",
   "id": "c24edc0a-16fb-4c5d-91a9-7a96dd334cd8",
   "metadata": {},
   "source": [
    "## B2.7.2.1.7—Step B1.7: Substructure Displacement at Each Support, Example 1.6\n",
    "Calculate the displacement of substructure $“j”$, $d_{sub,j}$, for all supports:\n",
    "\n",
    "$$d_{sub,j} = d − d_{isol, j} \\qquad (B2.7.2.1.7-1)$$"
   ]
  },
  {
   "cell_type": "code",
   "execution_count": 37,
   "id": "f6868678-299c-47e9-b722-9bcbab1dc84a",
   "metadata": {},
   "outputs": [
    {
     "data": {
      "image/png": "[encoded data removed]",
      "text/latex": [
       "$\\displaystyle \\left[ 0, \\  0.00286396879570949, \\  0.00286396879570949, \\  0\\right]$"
      ],
      "text/plain": [
       "[0, 0.00286396879570949, 0.00286396879570949, 0]"
      ]
     },
     "execution_count": 37,
     "metadata": {},
     "output_type": "execute_result"
    }
   ],
   "source": [
    "d_sub_j_list=[d-d_isol_j_list[j] for j in range(m)]\n",
    "\n",
    "d_sub_j_list\n"
   ]
  },
  {
   "cell_type": "markdown",
   "id": "e782605b-fcd9-4174-9fe9-525f012a11ba",
   "metadata": {},
   "source": [
    "## B2.7.2.1.8—Step B1.8: Lateral Load in Each Substructure Support, Example 1.6\n",
    "\n",
    "Calculate the shear at support $“j”$, $F_{sub,j}$, for all supports:\n",
    "\n",
    "$$F_{sub,j} =K_{sub,j}d_{sub,j} \\qquad (B2.7.2.1.8-1)$$"
   ]
  },
  {
   "cell_type": "code",
   "execution_count": 26,
   "id": "2e3183a8-3e82-4cf9-854d-ba90d5c5bb37",
   "metadata": {},
   "outputs": [
    {
     "data": {
      "image/png": "[encoded data removed]",
      "text/latex": [
       "$\\displaystyle \\left[ 5.2, \\  28.0905, \\  28.0905, \\  5.2\\right]$"
      ],
      "text/plain": [
       "[5.199999999999999, 28.0905, 28.0905, 5.199999999999999]"
      ]
     },
     "execution_count": 26,
     "metadata": {},
     "output_type": "execute_result"
    }
   ],
   "source": [
    "K_sub_j_list=[10000,307,307,10000]# kips/in\n",
    "F_sub_j_list=[K_sub_j_list[j]*d_sub_j_list[j] for j in range(m)]\n",
    "F_sub_j_list"
   ]
  },
  {
   "cell_type": "markdown",
   "id": "abc1cc09-fa47-493c-bc25-76d1e9c68d7e",
   "metadata": {},
   "source": [
    "## B2.7.2.1.9—Step B1.9: Column Shear Force at Each Support, Example 1.6\n",
    "\n",
    "Calculate the shear in column $“k”$ at support $“j”$,\n",
    "$F_{col,j,k}$, assuming equal distribution of shear for all\n",
    "columns at support “j”:\n",
    "$$ F_{col,j,k}=\\frac{F_{sub,j}}{\\text{#of columns at support j}}\\qquad (B2.7.2.1.9-1)$$\n",
    "\n",
    "Use these approximate column shear forces as a\n",
    "check on the validity of the chosen strength and\n",
    "stiffness characteristics."
   ]
  },
  {
   "cell_type": "code",
   "execution_count": 27,
   "id": "adbc67d9-b14f-4bc7-8a39-2afa30e64c13",
   "metadata": {
    "tags": []
   },
   "outputs": [
    {
     "data": {
      "image/png": "[encoded data removed]",
      "text/latex": [
       "$\\displaystyle \\left[ 9.3635, \\  9.3635\\right]$"
      ],
      "text/plain": [
       "[9.3635, 9.3635]"
      ]
     },
     "execution_count": 27,
     "metadata": {},
     "output_type": "execute_result"
    }
   ],
   "source": [
    "num_cols_per_support=[6,3,3,6]\n",
    "F_col_jk_list=[F_sub_j_list[j]/num_cols_per_support[j] for j in [1,2]]\n",
    "F_col_jk_list"
   ]
  },
  {
   "cell_type": "markdown",
   "id": "8a367bc5-c4f6-4018-8219-f414f221f09b",
   "metadata": {},
   "source": [
    "## B2.7.2.1.10—Step B1.10: Effective Period and Damping Ratio, Example 1.6\n",
    "\n",
    "Calculate the effective period, $T_{eff}$, and the viscous\n",
    "damping ratio, $\\xi$ , of the bridge:\n",
    "$$ T_{eff}=2\\pi\\sqrt{\\frac{W_{eff}}{gK_{eff}}} \\qquad (B2.7.2.1.10-1)$$\n",
    "\n",
    "and \n",
    "\n",
    "$$\\text{Eq. 7.1-10} \\qquad \\qquad  \\qquad \\xi=\\frac{2\\sum_j[Q_d(d_i-d_y)]}{\\pi\\sum_j[K_{eff,j}(d_i+d_{sub})^2]}\\qquad (B2.7.2.1.10-2)$$\n"
   ]
  },
  {
   "cell_type": "code",
   "execution_count": 28,
   "id": "c40429db-dc5a-4c45-8c0c-7ff08339d90b",
   "metadata": {
    "tags": []
   },
   "outputs": [
    {
     "data": {
      "image/png": "[encoded data removed]",
      "text/latex": [
       "$\\displaystyle T_{eff} = 6.28 \\left(\\frac{W_{eff}}{K_{eff} g}\\right)^{0.5}$"
      ],
      "text/plain": [
       "                      0.5\n",
       "             ⎛ W_eff ⎞   \n",
       "T_eff = 6.28⋅⎜───────⎟   \n",
       "             ⎝K_eff⋅g⎠   "
      ]
     },
     "metadata": {},
     "output_type": "display_data"
    },
    {
     "data": {
      "image/png": "[encoded data removed]",
      "text/latex": [
       "$\\displaystyle T_{eff} = 1.56$"
      ],
      "text/plain": [
       "T_eff = 1.56"
      ]
     },
     "metadata": {},
     "output_type": "display_data"
    }
   ],
   "source": [
    "W_eff_val=830.14\n",
    "g_val=386.4\n",
    "\n",
    "T_eff, W_eff, K_eff, g= symbols(\"T_eff W_eff K_eff g\")\n",
    "def T_eff_func(W_eff=W_eff,K_eff=K_eff, g=g):\n",
    "    val=2*np.pi*((W_eff/(g*K_eff))**(1/2))    \n",
    "    return round_equation(Eq(T_eff, val, evaluate=False),2)\n",
    "\n",
    "\n",
    "display(T_eff_func())\n",
    "    \n",
    "T_eff_val=   T_eff_func(W_eff=W_eff_val,K_eff=K_eff_val, g=g_val).rhs\n",
    "display(T_eff_func(W_eff=W_eff_val,K_eff=K_eff_val, g=g_val))    \n",
    "\n",
    "\n",
    "\n"
   ]
  },
  {
   "cell_type": "code",
   "execution_count": 29,
   "id": "b1f3acb9-935f-47f3-b679-8dd684c25f4b",
   "metadata": {
    "tags": []
   },
   "outputs": [],
   "source": [
    "\n",
    "# Calculate new \\xi\n",
    "\n",
    "def xi_func(Q_d,K_eff,d_i,d_y,d_sub):\n",
    "    val_numerator = 2 * sum([(Q_d_j * (d_i_j - d_y_j)) for Q_d_j, d_i_j, d_y_j in zip(Q_d, d_i, d_y)])\n",
    "    val_denominator = np.pi*sum([(K_eff_j*(d_i_j + d_sub_j) ** 2) for K_eff_j, d_i_j, d_sub_j in zip(K_eff, d_i, d_sub)])\n",
    "    val = val_numerator / val_denominator\n",
    "    \n",
    "    return val\n",
    "        \n",
    "    \n",
    "\n"
   ]
  },
  {
   "cell_type": "code",
   "execution_count": 30,
   "id": "33a4ff20-713b-4909-a115-4f37781aa07d",
   "metadata": {
    "tags": []
   },
   "outputs": [
    {
     "data": {
      "image/png": "[encoded data removed]",
      "text/latex": [
       "$\\displaystyle 0.293338568308894$"
      ],
      "text/plain": [
       "0.293338568308894"
      ]
     },
     "execution_count": 30,
     "metadata": {},
     "output_type": "execute_result"
    }
   ],
   "source": [
    "Q_d=Q_dj_list\n",
    "\n",
    "K_eff=K_effj_list\n",
    "\n",
    "d_i=d_isol_j_list\n",
    "\n",
    "d_y=[0]*m\n",
    "d_sub=d_sub_j_list\n",
    "\n",
    "xi_new=xi_func(Q_d,K_eff,d_i,d_y,d_sub)\n",
    "xi_new"
   ]
  },
  {
   "cell_type": "code",
   "execution_count": 31,
   "id": "f49b6d2b-4dd7-46e7-b691-ec3f94ad677d",
   "metadata": {
    "tags": []
   },
   "outputs": [
    {
     "data": {
      "image/png": "[encoded data removed]",
      "text/latex": [
       "$\\displaystyle 1.70027727026268$"
      ],
      "text/plain": [
       "1.70027727026268"
      ]
     },
     "metadata": {},
     "output_type": "display_data"
    }
   ],
   "source": [
    "B_L_val=B_L_func(xi=xi_new)\n",
    "\n",
    "display(B_L_val)\n",
    "\n"
   ]
  },
  {
   "cell_type": "code",
   "execution_count": 34,
   "id": "c90fe204-d34b-40ad-b7eb-2cfb0e6e1486",
   "metadata": {
    "tags": []
   },
   "outputs": [],
   "source": [
    "# New displacement\n",
    "\n",
    "d_new=d_func(S_D1=S_D1_val, T_eff= T_eff_val, B_L=B_L_val).rhs"
   ]
  },
  {
   "cell_type": "code",
   "execution_count": 35,
   "id": "2e60dda6-dc5e-43ec-89e4-84292777f13b",
   "metadata": {
    "tags": []
   },
   "outputs": [
    {
     "data": {
      "image/png": "[encoded data removed]",
      "text/latex": [
       "$\\displaystyle 1.79652741349097$"
      ],
      "text/plain": [
       "1.79652741349097"
      ]
     },
     "metadata": {},
     "output_type": "display_data"
    }
   ],
   "source": [
    "display(d_new)"
   ]
  },
  {
   "cell_type": "code",
   "execution_count": 38,
   "id": "079da90c-5343-4b2e-8fcd-413e51ff69ac",
   "metadata": {
    "tags": []
   },
   "outputs": [],
   "source": [
    "a=[1,2,3]\n",
    "b=[4,5,6]"
   ]
  },
  {
   "cell_type": "code",
   "execution_count": 44,
   "id": "abf4b29a-7991-4ab3-9801-f53624e15a0f",
   "metadata": {
    "tags": []
   },
   "outputs": [
    {
     "data": {
      "image/png": "[encoded data removed]",
      "text/latex": [
       "$\\displaystyle 32$"
      ],
      "text/plain": [
       "32"
      ]
     },
     "execution_count": 44,
     "metadata": {},
     "output_type": "execute_result"
    }
   ],
   "source": [
    "c=sum([a[i]*b[i] for i in range(len(a))])\n",
    "c"
   ]
  },
  {
   "cell_type": "code",
   "execution_count": null,
   "id": "80c06496-f3da-4763-ba36-020306d8f76e",
   "metadata": {},
   "outputs": [],
   "source": []
  }
 ],
 "metadata": {
  "kernelspec": {
   "display_name": "Python 3 (ipykernel)",
   "language": "python",
   "name": "python3"
  },
  "language_info": {
   "codemirror_mode": {
    "name": "ipython",
    "version": 3
   },
   "file_extension": ".py",
   "mimetype": "text/x-python",
   "name": "python",
   "nbconvert_exporter": "python",
   "pygments_lexer": "ipython3",
   "version": "3.10.9"
  }
 },
 "nbformat": 4,
 "nbformat_minor": 5
}
